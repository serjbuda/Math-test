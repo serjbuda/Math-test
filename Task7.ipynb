{
 "cells": [
  {
   "cell_type": "code",
   "execution_count": 1,
   "id": "cabd1a1c-075c-4a56-b180-2073953ca37b",
   "metadata": {},
   "outputs": [
    {
     "name": "stdout",
     "output_type": "stream",
     "text": [
      "RMSE: 0.4054\n",
      "RMSE for Recommender System: 0.40541718269429633\n",
      "Predicted Ratings for New User (Matrix Factorization): [ 1.28842784 -0.60036092  0.53618536  2.20464944  4.16831474]\n"
     ]
    }
   ],
   "source": [
    "import pandas as pd\n",
    "import numpy as np\n",
    "from surprise import Dataset, Reader\n",
    "from surprise.model_selection import train_test_split\n",
    "from surprise import SVD\n",
    "from surprise import accuracy\n",
    "\n",
    "# Завантаження даних з файлів для рекомендаційної системи\n",
    "tags_df = pd.read_csv('C:\\\\Users\\\\Сергій\\\\Documents\\\\Code\\\\Current_task\\\\Math-test\\\\task7\\\\tags.csv')\n",
    "movies_df = pd.read_csv('C:\\\\Users\\\\Сергій\\\\Documents\\\\Code\\\\Current_task\\\\Math-test\\\\task7\\\\movies.csv')\n",
    "links_df = pd.read_csv('C:\\\\Users\\\\Сергій\\\\Documents\\\\Code\\\\Current_task\\\\Math-test\\\\task7\\\\links.csv')\n",
    "ratings_df = pd.read_csv('C:\\\\Users\\\\Сергій\\\\Documents\\\\Code\\\\Current_task\\\\Math-test\\\\task7\\\\ratings_filtered.csv')  # Використовуйте ratings_filtered.csv\n",
    "\n",
    "# З'єднуємо файли за movieId\n",
    "merged_df = movies_df.merge(links_df, on='movieId', how='inner')\n",
    "merged_df = merged_df.merge(tags_df, on='movieId', how='inner')\n",
    "\n",
    "# Об'єднуємо з файлом ratings_filtered.csv за userId і movieId\n",
    "merged_df = merged_df.merge(ratings_df[['userId', 'movieId', 'rating']], on=['userId', 'movieId'], how='inner')\n",
    "\n",
    "# Визначаємо Reader для бібліотеки surprise\n",
    "reader = Reader(rating_scale=(0, 5))\n",
    "\n",
    "# Створюємо датасет з даних\n",
    "data = Dataset.load_from_df(merged_df[['userId', 'movieId', 'rating']], reader)\n",
    "\n",
    "# Розділяємо датасет на навчальний та тестовий для рекомендаційної системи\n",
    "trainset, testset = train_test_split(data, test_size=0.2, random_state=42)\n",
    "\n",
    "# Побудова моделі SVD та її навчання для рекомендаційної системи\n",
    "model = SVD()\n",
    "model.fit(trainset)\n",
    "\n",
    "# Прогнозування рейтингів для тестового набору для рекомендаційної системи\n",
    "predictions = model.test(testset)\n",
    "\n",
    "# Обчислення середньоквадратичної помилки (RMSE) для рекомендаційної системи\n",
    "rmse = accuracy.rmse(predictions)\n",
    "print(f'RMSE for Recommender System: {rmse}')\n",
    "\n",
    "# Завантаження даних про рейтинги користувачів і товарів для матричної факторизації\n",
    "ratings_matrix = np.array([\n",
    "    [5, 4, 0, 0, 1],\n",
    "    [0, 0, 5, 4, 2],\n",
    "    [3, 0, 0, 0, 5],\n",
    "    [0, 2, 4, 0, 0],\n",
    "    [1, 0, 0, 3, 4]\n",
    "])\n",
    "\n",
    "# Кількість користувачів і товарів\n",
    "num_users, num_items = ratings_matrix.shape\n",
    "\n",
    "# Ініціалізація матриць користувачів і товарів з випадковими значеннями\n",
    "num_factors = 3  # Кількість факторів\n",
    "user_matrix = np.random.rand(num_users, num_factors)\n",
    "item_matrix = np.random.rand(num_items, num_factors)\n",
    "\n",
    "# Градієнтний спуск для оптимізації функції втрат для матричної факторизації\n",
    "learning_rate = 0.01\n",
    "num_iterations = 100\n",
    "\n",
    "for _ in range(num_iterations):\n",
    "    # Робимо прогноз рейтингів для матричної факторизації\n",
    "    predicted_ratings = np.dot(user_matrix, item_matrix.T)\n",
    "\n",
    "    # Обчислюємо функцію втрат для матричної факторизації\n",
    "    loss = np.sum((ratings_matrix - predicted_ratings) ** 2)\n",
    "\n",
    "    # Обчислюємо градієнти для матричної факторизації\n",
    "    user_gradient = -2 * np.dot((ratings_matrix - predicted_ratings), item_matrix)\n",
    "    item_gradient = -2 * np.dot((ratings_matrix - predicted_ratings).T, user_matrix)\n",
    "\n",
    "    # Оновлюємо матриці користувачів і товарів для матричної факторизації\n",
    "    user_matrix -= learning_rate * user_gradient\n",
    "    item_matrix -= learning_rate * item_gradient\n",
    "\n",
    "# Прогнозування рейтингів для нових користувачів і товарів для матричної факторизації\n",
    "new_user_ratings = np.dot(user_matrix[-1, :], item_matrix.T)\n",
    "print(f'Predicted Ratings for New User (Matrix Factorization): {new_user_ratings}')\n"
   ]
  },
  {
   "cell_type": "code",
   "execution_count": null,
   "id": "9fe80670-8170-487f-9d7a-0f10bbc80862",
   "metadata": {},
   "outputs": [],
   "source": []
  },
  {
   "cell_type": "code",
   "execution_count": null,
   "id": "6f760120-f74a-457a-bed6-3019a464abd6",
   "metadata": {},
   "outputs": [],
   "source": []
  }
 ],
 "metadata": {
  "kernelspec": {
   "display_name": "Python 3 (ipykernel)",
   "language": "python",
   "name": "python3"
  },
  "language_info": {
   "codemirror_mode": {
    "name": "ipython",
    "version": 3
   },
   "file_extension": ".py",
   "mimetype": "text/x-python",
   "name": "python",
   "nbconvert_exporter": "python",
   "pygments_lexer": "ipython3",
   "version": "3.10.5"
  }
 },
 "nbformat": 4,
 "nbformat_minor": 5
}
