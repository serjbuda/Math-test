{
 "cells": [
  {
   "cell_type": "code",
   "execution_count": 1,
   "id": "8a7e6c08-847a-4981-96cf-22c3dc8f2771",
   "metadata": {},
   "outputs": [
    {
     "name": "stdout",
     "output_type": "stream",
     "text": [
      "Завдання 1:\n",
      "[ 1  2  3  4  5  6  7  8  9 10]\n"
     ]
    }
   ],
   "source": [
    "import numpy as np\n",
    "\n",
    "array1d = np.array([1, 2, 3, 4, 5, 6, 7, 8, 9, 10])\n",
    "print(\"Завдання 1:\")\n",
    "print(array1d)"
   ]
  },
  {
   "cell_type": "code",
   "execution_count": 2,
   "id": "a2674ba4-9d38-4d49-a2c1-4feab9635ad7",
   "metadata": {},
   "outputs": [
    {
     "name": "stdout",
     "output_type": "stream",
     "text": [
      "\n",
      "Завдання 2:\n",
      "[[0. 0. 0.]\n",
      " [0. 0. 0.]\n",
      " [0. 0. 0.]]\n"
     ]
    }
   ],
   "source": [
    "array2d = np.zeros((3, 3))\n",
    "print(\"\\nЗавдання 2:\")\n",
    "print(array2d)"
   ]
  },
  {
   "cell_type": "code",
   "execution_count": 3,
   "id": "f8279432-47b3-4702-9fdc-3ea3284344f3",
   "metadata": {},
   "outputs": [
    {
     "name": "stdout",
     "output_type": "stream",
     "text": [
      "\n",
      "Завдання 3:\n",
      "[[ 7  7  6 10  8]\n",
      " [10  6  1  2  8]\n",
      " [ 7  5  8  6  4]\n",
      " [ 3  2  7  5  9]\n",
      " [10  9  3  2  3]]\n"
     ]
    }
   ],
   "source": [
    "random_array = np.random.randint(1, 11, size=(5, 5))\n",
    "print(\"\\nЗавдання 3:\")\n",
    "print(random_array)"
   ]
  },
  {
   "cell_type": "code",
   "execution_count": 4,
   "id": "35f7d886-9f13-493c-a0fe-758847063649",
   "metadata": {},
   "outputs": [
    {
     "name": "stdout",
     "output_type": "stream",
     "text": [
      "\n",
      "Завдання 4:\n",
      "[[0.32907909 0.2800519  0.08359346 0.68536461]\n",
      " [0.7837906  0.13608359 0.68876794 0.9496288 ]\n",
      " [0.15327792 0.73454521 0.52321301 0.57250516]\n",
      " [0.320041   0.34357601 0.1444465  0.33581031]]\n"
     ]
    }
   ],
   "source": [
    "random_float_array = np.random.rand(4, 4)\n",
    "print(\"\\nЗавдання 4:\")\n",
    "print(random_float_array)"
   ]
  },
  {
   "cell_type": "code",
   "execution_count": 5,
   "id": "8f5a021c-79c3-4c2e-b411-027b3163f2f9",
   "metadata": {},
   "outputs": [
    {
     "name": "stdout",
     "output_type": "stream",
     "text": [
      "\n",
      "Завдання 5:\n",
      "Додавання: [13  7 17  7 11]\n",
      "Віднімання: [-1 -1 -1 -3  1]\n",
      "Множення: [42 12 72 10 30]\n"
     ]
    }
   ],
   "source": [
    "array1 = np.random.randint(1, 11, size=5)\n",
    "array2 = np.random.randint(1, 11, size=5)\n",
    "add_result = array1 + array2\n",
    "sub_result = array1 - array2\n",
    "mul_result = array1 * array2\n",
    "print(\"\\nЗавдання 5:\")\n",
    "print(\"Додавання:\", add_result)\n",
    "print(\"Віднімання:\", sub_result)\n",
    "print(\"Множення:\", mul_result)"
   ]
  },
  {
   "cell_type": "code",
   "execution_count": 6,
   "id": "89c6ec08-9e7c-45f3-b09c-1c35b83a7433",
   "metadata": {},
   "outputs": [
    {
     "name": "stdout",
     "output_type": "stream",
     "text": [
      "\n",
      "Завдання 6:\n",
      "Скалярний добуток: 2.0677994322916584\n"
     ]
    }
   ],
   "source": [
    "vector1 = np.random.random(7)\n",
    "vector2 = np.random.random(7)\n",
    "scalar_product = np.dot(vector1, vector2)\n",
    "print(\"\\nЗавдання 6:\")\n",
    "print(\"Скалярний добуток:\", scalar_product)"
   ]
  },
  {
   "cell_type": "code",
   "execution_count": 7,
   "id": "164ea446-4b28-454f-a3a2-711e569f9d41",
   "metadata": {},
   "outputs": [
    {
     "name": "stdout",
     "output_type": "stream",
     "text": [
      "\n",
      "Завдання 7:\n",
      "Матричний добуток:\n",
      "[[ 20  38  30]\n",
      " [ 94 181 144]]\n"
     ]
    }
   ],
   "source": [
    "matrix1 = np.random.randint(1, 11, size=(2, 2))\n",
    "matrix2 = np.random.randint(1, 11, size=(2, 3))\n",
    "product_matrix = np.dot(matrix1, matrix2)\n",
    "print(\"\\nЗавдання 7:\")\n",
    "print(\"Матричний добуток:\")\n",
    "print(product_matrix)"
   ]
  },
  {
   "cell_type": "code",
   "execution_count": 8,
   "id": "a38520d9-f260-4797-8f84-e71fe5572cfd",
   "metadata": {},
   "outputs": [
    {
     "name": "stdout",
     "output_type": "stream",
     "text": [
      "\n",
      "Завдання 8:\n",
      "Обернена матриця:\n",
      "[[-0.05426357  0.01550388  0.11627907]\n",
      " [-0.03410853  0.12403101 -0.06976744]\n",
      " [ 0.14418605 -0.06976744 -0.02325581]]\n"
     ]
    }
   ],
   "source": [
    "matrix3x3 = np.random.randint(1, 11, size=(3, 3))\n",
    "inverse_matrix = np.linalg.inv(matrix3x3)\n",
    "print(\"\\nЗавдання 8:\")\n",
    "print(\"Обернена матриця:\")\n",
    "print(inverse_matrix)"
   ]
  },
  {
   "cell_type": "code",
   "execution_count": 9,
   "id": "836dbf8f-58cf-44a9-937e-7c715bf6469d",
   "metadata": {},
   "outputs": [
    {
     "name": "stdout",
     "output_type": "stream",
     "text": [
      "\n",
      "Завдання 9:\n",
      "Транспонована матриця:\n",
      "[[0.71660739 0.27418117 0.51694239 0.36947607]\n",
      " [0.73669886 0.14854796 0.45102834 0.24948787]\n",
      " [0.02984907 0.11902116 0.28837451 0.16010941]\n",
      " [0.76951897 0.96572105 0.93234424 0.30649561]]\n"
     ]
    }
   ],
   "source": [
    "matrix4x4 = np.random.rand(4, 4)\n",
    "transposed_matrix = np.transpose(matrix4x4)\n",
    "print(\"\\nЗавдання 9:\")\n",
    "print(\"Транспонована матриця:\")\n",
    "print(transposed_matrix)"
   ]
  },
  {
   "cell_type": "code",
   "execution_count": 10,
   "id": "7f8b6d14-5f59-471a-a207-c6115ffa9ce7",
   "metadata": {},
   "outputs": [
    {
     "name": "stdout",
     "output_type": "stream",
     "text": [
      "\n",
      "Завдання 10:\n",
      "Результат множення матриці на вектор:\n",
      "[120 113 257]\n"
     ]
    }
   ],
   "source": [
    "matrix3x4 = np.random.randint(1, 11, size=(3, 4))\n",
    "vector4 = np.random.randint(1, 11, size=4)\n",
    "result_vector = np.dot(matrix3x4, vector4)\n",
    "print(\"\\nЗавдання 10:\")\n",
    "print(\"Результат множення матриці на вектор:\")\n",
    "print(result_vector)"
   ]
  },
  {
   "cell_type": "code",
   "execution_count": 11,
   "id": "ef6408d4-722b-4180-99b5-03950a46cf07",
   "metadata": {},
   "outputs": [
    {
     "name": "stdout",
     "output_type": "stream",
     "text": [
      "\n",
      "Завдання 11:\n",
      "Результат множення матриці на вектор:\n",
      "[0.13404792 0.27256666]\n"
     ]
    }
   ],
   "source": [
    "matrix2x3 = np.random.random((2, 3))\n",
    "vector3 = np.random.random(3)\n",
    "result_vector = np.dot(matrix2x3, vector3)\n",
    "print(\"\\nЗавдання 11:\")\n",
    "print(\"Результат множення матриці на вектор:\")\n",
    "print(result_vector)"
   ]
  },
  {
   "cell_type": "code",
   "execution_count": 12,
   "id": "9336121c-bbb0-408f-b882-f72c2bf958f1",
   "metadata": {},
   "outputs": [
    {
     "name": "stdout",
     "output_type": "stream",
     "text": [
      "\n",
      "Завдання 12:\n",
      "Поелементне множення матриць:\n",
      "[[18 30]\n",
      " [42 60]]\n"
     ]
    }
   ],
   "source": [
    "matrixA = np.random.randint(1, 11, size=(2, 2))\n",
    "matrixB = np.random.randint(1, 11, size=(2, 2))\n",
    "elementwise_product = np.multiply(matrixA, matrixB)\n",
    "print(\"\\nЗавдання 12:\")\n",
    "print(\"Поелементне множення матриць:\")\n",
    "print(elementwise_product)"
   ]
  },
  {
   "cell_type": "code",
   "execution_count": 13,
   "id": "e847aea0-a4af-4307-b7c1-5470dd5ebc9d",
   "metadata": {},
   "outputs": [
    {
     "name": "stdout",
     "output_type": "stream",
     "text": [
      "\n",
      "Завдання 13:\n",
      "Матричний добуток матриць:\n",
      "[[46 52]\n",
      " [36 20]]\n"
     ]
    }
   ],
   "source": [
    "matrixA = np.random.randint(1, 11, size=(2, 2))\n",
    "matrixB = np.random.randint(1, 11, size=(2, 2))\n",
    "matrix_product = np.dot(matrixA, matrixB)\n",
    "print(\"\\nЗавдання 13:\")\n",
    "print(\"Матричний добуток матриць:\")\n",
    "print(matrix_product)"
   ]
  },
  {
   "cell_type": "code",
   "execution_count": 14,
   "id": "1dfb867d-c116-4e93-a8ba-8c84e69294e4",
   "metadata": {},
   "outputs": [
    {
     "name": "stdout",
     "output_type": "stream",
     "text": [
      "\n",
      "Завдання 14:\n",
      "Сума елементів матриці:\n",
      "1425\n"
     ]
    }
   ],
   "source": [
    "matrix5x5 = np.random.randint(1, 101, size=(5, 5))\n",
    "sum_elements = np.sum(matrix5x5)\n",
    "print(\"\\nЗавдання 14:\")\n",
    "print(\"Сума елементів матриці:\")\n",
    "print(sum_elements)"
   ]
  },
  {
   "cell_type": "code",
   "execution_count": 15,
   "id": "c19d31f9-bf08-420f-ba33-dc0cfd194ea2",
   "metadata": {},
   "outputs": [
    {
     "name": "stdout",
     "output_type": "stream",
     "text": [
      "\n",
      "Завдання 15:\n",
      "Різниця між матрицями:\n",
      "[[-5 -3  2 -2]\n",
      " [-3 -8 -3 -2]\n",
      " [ 3  4  2  2]\n",
      " [-2 -2  3 -7]]\n"
     ]
    }
   ],
   "source": [
    "matrixC = np.random.randint(1, 11, size=(4, 4))\n",
    "matrixD = np.random.randint(1, 11, size=(4, 4))\n",
    "matrix_difference = matrixC - matrixD\n",
    "print(\"\\nЗавдання 15:\")\n",
    "print(\"Різниця між матрицями:\")\n",
    "print(matrix_difference)"
   ]
  },
  {
   "cell_type": "code",
   "execution_count": 16,
   "id": "613274ac-9d8b-4b54-bb0b-c90cf5ff76cd",
   "metadata": {},
   "outputs": [
    {
     "name": "stdout",
     "output_type": "stream",
     "text": [
      "\n",
      "Завдання 16:\n",
      "Вектор-стовпчик сум рядків матриці:\n",
      "[[1.94125128]\n",
      " [2.0871867 ]\n",
      " [0.85511575]]\n"
     ]
    }
   ],
   "source": [
    "matrix3x3 = np.random.random((3, 3))\n",
    "row_sums = np.sum(matrix3x3, axis=1)\n",
    "column_vector = row_sums.reshape(-1, 1)\n",
    "print(\"\\nЗавдання 16:\")\n",
    "print(\"Вектор-стовпчик сум рядків матриці:\")\n",
    "print(column_vector)"
   ]
  },
  {
   "cell_type": "code",
   "execution_count": 17,
   "id": "71205ae6-923b-4d81-9cda-ea7aed756308",
   "metadata": {},
   "outputs": [
    {
     "name": "stdout",
     "output_type": "stream",
     "text": [
      "\n",
      "Завдання 17:\n",
      "Матриця з квадратами чисел:\n",
      "[[ 36   1   9  49]\n",
      " [ 81   9  49 100]\n",
      " [ 16   4  16   4]]\n"
     ]
    }
   ],
   "source": [
    "matrixE = np.random.randint(-10, 11, size=(3, 4))\n",
    "squared_matrix = np.square(matrixE)\n",
    "print(\"\\nЗавдання 17:\")\n",
    "print(\"Матриця з квадратами чисел:\")\n",
    "print(squared_matrix)"
   ]
  },
  {
   "cell_type": "code",
   "execution_count": 18,
   "id": "520244c8-8e13-44da-86d8-0df4e52f5857",
   "metadata": {},
   "outputs": [
    {
     "name": "stdout",
     "output_type": "stream",
     "text": [
      "\n",
      "Завдання 18:\n",
      "Вектор з квадратними коренями чисел:\n",
      "[6.63324958 4.89897949 5.74456265 1.41421356]\n"
     ]
    }
   ],
   "source": [
    "vector5 = np.random.randint(1, 51, size=4)\n",
    "sqrt_vector = np.sqrt(vector5)\n",
    "print(\"\\nЗавдання 18:\")\n",
    "print(\"Вектор з квадратними коренями чисел:\")\n",
    "print(sqrt_vector)"
   ]
  },
  {
   "cell_type": "code",
   "execution_count": null,
   "id": "82e32208-dda8-406d-9dff-fff86057e5c7",
   "metadata": {},
   "outputs": [],
   "source": []
  }
 ],
 "metadata": {
  "kernelspec": {
   "display_name": "Python 3 (ipykernel)",
   "language": "python",
   "name": "python3"
  },
  "language_info": {
   "codemirror_mode": {
    "name": "ipython",
    "version": 3
   },
   "file_extension": ".py",
   "mimetype": "text/x-python",
   "name": "python",
   "nbconvert_exporter": "python",
   "pygments_lexer": "ipython3",
   "version": "3.10.5"
  }
 },
 "nbformat": 4,
 "nbformat_minor": 5
}
