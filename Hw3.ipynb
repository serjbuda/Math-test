{
 "cells": [
  {
   "cell_type": "code",
   "execution_count": 4,
   "id": "3deb823b-ab55-4a02-bdb8-0f013d486440",
   "metadata": {},
   "outputs": [],
   "source": [
    "import numpy as np\n",
    "import pandas as pd\n",
    "\n",
    "# Завантаження даних\n",
    "file_path = r\"C:\\Users\\Сергій\\Documents\\Code\\Current_task\\Math-test\\Housing.csv\"\n",
    "data = pd.read_csv(file_path)\n",
    "\n",
    "# Відділення вхідних ознак та виходів\n",
    "X = data[[\"area\", \"bathrooms\", \"bedrooms\"]].values\n",
    "y = data[\"price\"].values\n"
   ]
  },
  {
   "cell_type": "code",
   "execution_count": 5,
   "id": "5d74808a-ea7d-4eff-a9a5-4541d84b9d7d",
   "metadata": {},
   "outputs": [],
   "source": [
    "# Нормалізація даних\n",
    "X_normalized = (X - X.mean(axis=0)) / X.std(axis=0)"
   ]
  },
  {
   "cell_type": "code",
   "execution_count": 7,
   "id": "978093eb-e255-4fbd-9af3-770143bde62d",
   "metadata": {},
   "outputs": [],
   "source": [
    "# Додати стовпець одиниць для w₀\n",
    "X_normalized = np.c_[np.ones(X_normalized.shape[0]), X_normalized]"
   ]
  },
  {
   "cell_type": "code",
   "execution_count": 8,
   "id": "e2ed60b7-b53d-44ea-8d25-7a077f2824ba",
   "metadata": {},
   "outputs": [],
   "source": [
    "# Функція гіпотези лінійної регресії\n",
    "def hypothesis(X, w):\n",
    "    return np.dot(X, w)\n"
   ]
  },
  {
   "cell_type": "code",
   "execution_count": 9,
   "id": "ed0dc74e-c917-444d-9b32-22d8bc261504",
   "metadata": {},
   "outputs": [],
   "source": [
    "# Функція обчислення функції втрат (середньої квадратичної помилки)\n",
    "def compute_loss(X, y, w):\n",
    "    h = hypothesis(X, w)\n",
    "    loss = np.mean((h - y)**2) / 2\n",
    "    return loss\n"
   ]
  },
  {
   "cell_type": "code",
   "execution_count": 10,
   "id": "f0780971-9678-4131-a476-7a0a09461435",
   "metadata": {},
   "outputs": [],
   "source": [
    "# Один крок градієнтного спуску\n",
    "def gradient_descent_step(X, y, w, learning_rate):\n",
    "    h = hypothesis(X, w)\n",
    "    gradient = np.dot(X.T, h - y) / len(y)\n",
    "    w -= learning_rate * gradient\n",
    "    return w"
   ]
  },
  {
   "cell_type": "code",
   "execution_count": 11,
   "id": "72954d7f-0c2e-4e11-8e20-e1d7cf7f434e",
   "metadata": {},
   "outputs": [],
   "source": [
    "# Один крок градієнтного спуску\n",
    "def gradient_descent_step(X, y, w, learning_rate):\n",
    "    h = hypothesis(X, w)\n",
    "    gradient = np.dot(X.T, h - y) / len(y)\n",
    "    w -= learning_rate * gradient\n",
    "    return w"
   ]
  },
  {
   "cell_type": "code",
   "execution_count": 12,
   "id": "a0dbde86-e8df-49c4-90e1-ae982aa22dd7",
   "metadata": {},
   "outputs": [],
   "source": [
    "# Один крок градієнтного спуску\n",
    "def gradient_descent_step(X, y, w, learning_rate):\n",
    "    h = hypothesis(X, w)\n",
    "    gradient = np.dot(X.T, h - y) / len(y)\n",
    "    w -= learning_rate * gradient\n",
    "    return w"
   ]
  },
  {
   "cell_type": "code",
   "execution_count": 14,
   "id": "fd06858e-1549-4864-9004-cc80f3526593",
   "metadata": {},
   "outputs": [],
   "source": [
    "# Знаходження параметрів за допомогою аналітичного розв'язку\n",
    "analytical_w = np.linalg.inv(X_normalized.T @ X_normalized) @ X_normalized.T @ y"
   ]
  },
  {
   "cell_type": "code",
   "execution_count": 17,
   "id": "39817dbb-0c58-40c6-a925-506827243055",
   "metadata": {},
   "outputs": [
    {
     "name": "stdout",
     "output_type": "stream",
     "text": [
      "Gradient Descent Parameters: [4766523.46205873  821199.26709864  695515.99623791  300296.28560637]\n",
      "Analytical Solution Parameters: [4766729.24770643  821214.14349519  695808.52272538  299983.57107963]\n"
     ]
    }
   ],
   "source": [
    "# Порівняння результатів\n",
    "print(\"Gradient Descent Parameters:\", w)\n",
    "print(\"Analytical Solution Parameters:\", analytical_w)\n",
    "\n"
   ]
  },
  {
   "cell_type": "code",
   "execution_count": null,
   "id": "e8bea476-e05b-4a14-9fef-6ebd4f23477f",
   "metadata": {},
   "outputs": [],
   "source": []
  }
 ],
 "metadata": {
  "kernelspec": {
   "display_name": "Python 3 (ipykernel)",
   "language": "python",
   "name": "python3"
  },
  "language_info": {
   "codemirror_mode": {
    "name": "ipython",
    "version": 3
   },
   "file_extension": ".py",
   "mimetype": "text/x-python",
   "name": "python",
   "nbconvert_exporter": "python",
   "pygments_lexer": "ipython3",
   "version": "3.10.5"
  }
 },
 "nbformat": 4,
 "nbformat_minor": 5
}
